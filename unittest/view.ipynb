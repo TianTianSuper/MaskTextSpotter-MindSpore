{
 "cells": [
  {
   "cell_type": "code",
   "execution_count": 1,
   "metadata": {},
   "outputs": [],
   "source": [
    "import pickle as pkl"
   ]
  },
  {
   "cell_type": "code",
   "execution_count": 2,
   "metadata": {},
   "outputs": [],
   "source": [
    "with open('/root/OCR/MaskTextSpotter-MindSpore/unittest/cases/resnet_1.pkl', 'rb') as f:\n",
    "    case = pkl.load(f)\n",
    "with open('/root/OCR/MaskTextSpotter-MindSpore/unittest/results/resnet.pkl', 'rb') as f:\n",
    "    res = pkl.load(f)"
   ]
  },
  {
   "cell_type": "code",
   "execution_count": 9,
   "metadata": {},
   "outputs": [],
   "source": [
    "with open('/root/OCR/MaskTextSpotter-MindSpore/unittest/cases/resnet_case.txt', 'w') as f:\n",
    "    f.write(str(case.tolist()))\n",
    "with open('/root/OCR/MaskTextSpotter-MindSpore/unittest/results/resnet.txt', 'w') as f:\n",
    "    f.write(str(res.tolist()))"
   ]
  },
  {
   "cell_type": "code",
   "execution_count": null,
   "metadata": {},
   "outputs": [],
   "source": []
  },
  {
   "cell_type": "code",
   "execution_count": null,
   "metadata": {},
   "outputs": [],
   "source": [
    "with open('/root/OCR/MaskTextSpotter-MindSpore/unittest/cases/conv2d.pkl', 'rb') as f:\n",
    "    case = pkl.load(f)\n",
    "with open('/root/OCR/MaskTextSpotter-MindSpore/unittest/results/conv2d.pkl', 'rb') as f:\n",
    "    res = pkl.load(f)"
   ]
  },
  {
   "cell_type": "code",
   "execution_count": 10,
   "metadata": {},
   "outputs": [],
   "source": [
    "with open('/root/OCR/MaskTextSpotter-MindSpore/unittest/cases/conv2d_case.txt', 'w') as f:\n",
    "    f.write(str(case.tolist()))\n",
    "with open('/root/OCR/MaskTextSpotter-MindSpore/unittest/results/conv2d.txt', 'w') as f:\n",
    "    f.write(str(res.tolist()))"
   ]
  },
  {
   "cell_type": "code",
   "execution_count": null,
   "metadata": {},
   "outputs": [],
   "source": []
  }
 ],
 "metadata": {
  "kernelspec": {
   "display_name": "Python 3.7.5 64-bit",
   "language": "python",
   "name": "python3"
  },
  "language_info": {
   "codemirror_mode": {
    "name": "ipython",
    "version": 3
   },
   "file_extension": ".py",
   "mimetype": "text/x-python",
   "name": "python",
   "nbconvert_exporter": "python",
   "pygments_lexer": "ipython3",
   "version": "3.7.5"
  },
  "orig_nbformat": 4,
  "vscode": {
   "interpreter": {
    "hash": "949777d72b0d2535278d3dc13498b2535136f6dfe0678499012e853ee9abcab1"
   }
  }
 },
 "nbformat": 4,
 "nbformat_minor": 2
}
